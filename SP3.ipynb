{
  "nbformat": 4,
  "nbformat_minor": 0,
  "metadata": {
    "colab": {
      "provenance": [],
      "authorship_tag": "ABX9TyPVYjIPREwiBy2szpUxIkLE"
    },
    "kernelspec": {
      "name": "python3",
      "display_name": "Python 3"
    },
    "language_info": {
      "name": "python"
    }
  },
  "cells": [
    {
      "cell_type": "code",
      "execution_count": null,
      "metadata": {
        "id": "hp2o4B6BH1X-"
      },
      "outputs": [],
      "source": [
        "# The Snowpark package is required for Python Worksheets.\n",
        "# You can add more packages by selecting them using the Packages control and then importing them.\n",
        "\n",
        "import snowflake.snowpark as snowpark\n",
        "\n",
        "\n",
        "def main(session: snowpark.Session):\n",
        "   try:\n",
        "       session.table(\"new_sales_items_transient\").drop_table()\n",
        "       session.table(\"new_sales_transient\").drop_table()\n",
        "\n",
        "       session.sql(\"REMOVE @DEMO_STAGE/new_sales_items.json\").collect()\n",
        "       session.sql(\"REMOVE @DEMO_STAGE/new_sales.json\").collect()\n",
        "       return \"Cleanup Successful\"\n",
        "   except Exception as e:\n",
        "        return e"
      ]
    }
  ]
}