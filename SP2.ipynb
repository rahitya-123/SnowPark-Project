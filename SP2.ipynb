{
  "nbformat": 4,
  "nbformat_minor": 0,
  "metadata": {
    "colab": {
      "provenance": [],
      "authorship_tag": "ABX9TyN6Ea5VR7Jwr162vHhm37qa"
    },
    "kernelspec": {
      "name": "python3",
      "display_name": "Python 3"
    },
    "language_info": {
      "name": "python"
    }
  },
  "cells": [
    {
      "cell_type": "code",
      "execution_count": null,
      "metadata": {
        "id": "N9PksfodHrgJ"
      },
      "outputs": [],
      "source": [
        "# The Snowpark package is required for Python Worksheets.\n",
        "# You can add more packages by selecting them using the Packages control and then importing them.\n",
        "\n",
        "import snowflake.snowpark as snowpark\n",
        "from snowflake.snowpark.functions import json_extract_path_text,call_udf,md5,parse_json,when_not_matched,lit\n",
        "\n",
        "def main(session: snowpark.Session):\n",
        "    try:\n",
        "        extract_new_sales = (\n",
        "        session.table(\"new_sales_transient\")\n",
        "        .withColumn(\"credit_card_number\", json_extract_path_text(\"$1\", lit(\"creditCardNumber\")))\n",
        "        .withColumn(\"credit_card_type\", json_extract_path_text(\"$1\", lit(\"creditCardType\")))\n",
        "        .withColumn(\"date_time\", json_extract_path_text(\"$1\", lit(\"dateTime\")))\n",
        "        .withColumn(\"id\", md5(json_extract_path_text(\"$1\", lit(\"id\"))))\n",
        "        .withColumn(\"sale_amount\", json_extract_path_text(\"$1\", lit(\"saleAmount\")))\n",
        "        .select(\"credit_card_number\", \"credit_card_type\", \"date_time\", \"id\", \"sale_amount\")\n",
        "        )\n",
        "\n",
        "        extract_new_sales_items = (\n",
        "        session.table(\"new_sales_items_transient\")\n",
        "        .withColumn(\"credit_card_number\", json_extract_path_text(\"$1\", lit(\"creditCardNumber\")))\n",
        "        .withColumn(\"date_time\", json_extract_path_text(\"$1\", lit(\"dateTime\")))\n",
        "        .withColumn(\"id\", md5(json_extract_path_text(\"$1\", lit(\"id\"))))\n",
        "        .withColumn(\"items\", call_udf(\"sort_alphabetically\",(parse_json(json_extract_path_text(\"$1\", lit(\"items\"))))))\n",
        "        .select(\"credit_card_number\", \"date_time\", \"id\", \"items\")\n",
        "        )\n",
        "\n",
        "        join_new_sales_and_sales_items = (\n",
        "            extract_new_sales.join(\n",
        "                right= extract_new_sales_items,\n",
        "                on= extract_new_sales.id == extract_new_sales_items.id,\n",
        "                rsuffix = \"_si\"\n",
        "            )\n",
        "            .select(\n",
        "                \"credit_card_number\",\n",
        "                \"date_time\", \"id\", \"items\",\n",
        "                \"sale_amount\"\n",
        "            )\n",
        "        )\n",
        "\n",
        "\n",
        "        target=session.table(\"sales_data\")\n",
        "\n",
        "        merged =target.merge(\n",
        "            source=join_new_sales_and_sales_items,\n",
        "            join_expr = (target[\"ID\"]==join_new_sales_and_sales_items[\"ID\"]),\n",
        "            clauses=[\n",
        "                when_not_matched().insert(\n",
        "                    {\n",
        "                        \"CREDIT_CARD_NUMBER\":join_new_sales_and_sales_items[\"CREDIT_CARD_NUMBER\"],\n",
        "                        \"DATE_TIME\":join_new_sales_and_sales_items[\"DATE_TIME\"],\n",
        "                        \"ID\":join_new_sales_and_sales_items[\"ID\"],\n",
        "                        \"ITEMS\":join_new_sales_and_sales_items[\"ITEMS\"],\n",
        "                        \"SALE_AMOUNT\":join_new_sales_and_sales_items[\"SALE_AMOUNT\"]\n",
        "                    }\n",
        "                )\n",
        "                     ]\n",
        "        )\n",
        "        return merged\n",
        "    except Exception as e:\n",
        "            return e"
      ]
    }
  ]
}