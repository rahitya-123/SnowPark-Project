{
  "nbformat": 4,
  "nbformat_minor": 0,
  "metadata": {
    "colab": {
      "provenance": [],
      "authorship_tag": "ABX9TyN5maqJUguvK32BzQiodmJs"
    },
    "kernelspec": {
      "name": "python3",
      "display_name": "Python 3"
    },
    "language_info": {
      "name": "python"
    }
  },
  "cells": [
    {
      "cell_type": "code",
      "execution_count": null,
      "metadata": {
        "id": "pJfQYdazHeHR"
      },
      "outputs": [],
      "source": [
        "# The Snowpark package is required for Python Worksheets.\n",
        "# You can add more packages by selecting them using the Packages control and then importing them.\n",
        "\n",
        "import snowflake.snowpark as snowpark\n",
        "\n",
        "\n",
        "def main(session: snowpark.Session):\n",
        "    try:\n",
        "        new_sales_items = session.read.options({\"STRIP_OUTER_ARRAY\":True}).json(\"@DEMO_STAGE/new_sales_items.json\")\n",
        "\n",
        "        new_sales_items.write.mode(\"overwrite\").save_as_table(\n",
        "            table_name = \"new_sales_items_transient\",\n",
        "            table_type=\"transient\"\n",
        "        )\n",
        "        new_sales = session.read.options({\"STRIP_OUTER_ARRAY\":True}).json(\"@DEMO_STAGE/new_sales.json\")\n",
        "\n",
        "        new_sales.write.mode(\"overwrite\").save_as_table(\n",
        "            table_name =\"new_sales_transient\",\n",
        "            table_type=\"transient\"\n",
        "        )\n",
        "\n",
        "        return \"Success! Two transient tables were created according to the .json files in your internal storage\"\n",
        "    except Exception as e:\n",
        "        return e\n"
      ]
    }
  ]
}